{
 "cells": [
  {
   "cell_type": "markdown",
   "metadata": {},
   "source": [
    "# Python Basics tutorial"
   ]
  },
  {
   "cell_type": "code",
   "execution_count": 68,
   "metadata": {},
   "outputs": [
    {
     "name": "stdout",
     "output_type": "stream",
     "text": [
      "Hello world\n",
      "4 Round the value\n",
      "3 It gives only integer value\n",
      "4 Round the number\n"
     ]
    }
   ],
   "source": [
    "from math import *\n",
    "print(\"Hello world\")\n",
    "print(ceil(3.2),\"Round the value\")  ### it gives only the firrst number\n",
    "print(floor(3.4),\"It gives only integer value\") ### It gives only the next number\n",
    "print(round(3.5),\"Round the number\") ### It round up the value"
   ]
  },
  {
   "cell_type": "markdown",
   "metadata": {},
   "source": [
    "## Lists  (Mutablue)"
   ]
  },
  {
   "cell_type": "code",
   "execution_count": 42,
   "metadata": {},
   "outputs": [],
   "source": [
    "names = [\"manoj\",\"srinivas\",\"karthik\",\"manoj\"]\n",
    "#print(names[0:3])   ### printing the names through index of the list\n",
    "#print(names.count(\"manoj\"))  ### count the number of values in a list\n",
    "names[3]=\"manoj kumar\"  ## changing the name in a list\n",
    "#print(names)\n",
    "names.append(\"musirika\") ### appending the another name in a list\n",
    "#print(names)\n",
    "names.insert(3,\"jalakam\")  ### insering another name using the index\n",
    "#print(names)\n",
    "names.sort()         ### sorting the names according to alphabetical order\n",
    "#print(names\n",
    "names.remove(\"manoj kumar\") ### removing the specific names froma list\n",
    "#print(names)\n",
    "names.pop()    ### removes the last value of alist\n",
    "#print(names)\n",
    "names.clear()   ### clears everything in a list\n",
    "#print(names)"
   ]
  },
  {
   "cell_type": "code",
   "execution_count": 38,
   "metadata": {},
   "outputs": [],
   "source": [
    "age = [21,24,26]\n",
    "names.extend(age)  ### adding two list values in to one list\n",
    "#print(names)\n",
    "\n",
    "names2 = names.copy()    ### copying the values from only list to another list\n",
    "#print(names2)"
   ]
  },
  {
   "cell_type": "markdown",
   "metadata": {},
   "source": [
    "## Functions"
   ]
  },
  {
   "cell_type": "code",
   "execution_count": 63,
   "metadata": {},
   "outputs": [
    {
     "name": "stdout",
     "output_type": "stream",
     "text": [
      "Hello srinivas, you are21!\n",
      "Hello Manoj, you are21!\n",
      "Hello karthik, you are21!\n"
     ]
    }
   ],
   "source": [
    "def sayhi(name,age):\n",
    "    print(\"Hello \" +  name + \", you are\" + str(age) + \"!\")\n",
    "sayhi(\"srinivas\",21)     ### we can call a function for n number of times in a program\n",
    "sayhi(\"Manoj\",21)\n",
    "sayhi(\"karthik\",21)"
   ]
  },
  {
   "cell_type": "code",
   "execution_count": 67,
   "metadata": {},
   "outputs": [
    {
     "name": "stdout",
     "output_type": "stream",
     "text": [
      "cube of given number is  27\n"
     ]
    }
   ],
   "source": [
    "### Functions with returrn statements\n",
    "\n",
    "def cube(num):\n",
    "    return num**3\n",
    "print(\"cube of given number is \",cube(3))"
   ]
  },
  {
   "cell_type": "markdown",
   "metadata": {},
   "source": [
    "## If , else, elif statements"
   ]
  },
  {
   "cell_type": "code",
   "execution_count": 85,
   "metadata": {},
   "outputs": [
    {
     "name": "stdout",
     "output_type": "stream",
     "text": [
      "You are neither male nor tall\n"
     ]
    }
   ],
   "source": [
    "## if statements else statements and elif statements\n",
    "\n",
    "is_male = False\n",
    "is_tall = False\n",
    "if is_male and is_tall:  ## we can use \"OR\" and \"AND\" in the if condition\n",
    "    print(\"You are a tall male\")\n",
    "elif is_male and not (is_tall):\n",
    "    print(\"you are a short male\")\n",
    "elif not (is_male) and is_tall:\n",
    "    print(\"you are not a male but tall\")\n",
    "else:\n",
    "    print(\"You are neither male nor tall\")"
   ]
  },
  {
   "cell_type": "code",
   "execution_count": 88,
   "metadata": {},
   "outputs": [
    {
     "name": "stdout",
     "output_type": "stream",
     "text": [
      "200\n"
     ]
    }
   ],
   "source": [
    "#### If statements and comparisions               #### comparisions are >, <, ==, >= ,<= ,!=\n",
    "\n",
    "def max_num(num1, num2, num3):\n",
    "    if num1>=num2 and num1>=num3:\n",
    "        return num1\n",
    "    elif num2>=num1 and num2>=num3:\n",
    "        return num2\n",
    "    else:\n",
    "        return num3\n",
    "print(max_num(2,30,4))\n",
    "        \n"
   ]
  },
  {
   "cell_type": "markdown",
   "metadata": {},
   "source": [
    "## Building a simple calculator using python"
   ]
  },
  {
   "cell_type": "code",
   "execution_count": null,
   "metadata": {},
   "outputs": [],
   "source": [
    "num1 = float(input(\"Enter the first number \"))\n",
    "operator = input(\"Enter the operator \")\n",
    "num2 = float(input(\"Enter the second number \"))\n",
    "\n",
    "if operator == \"+\":\n",
    "    print(num1 + num2)\n",
    "elif operator == \"-\":\n",
    "    print(num1 - num2)\n",
    "elif operator == \"/\":\n",
    "    print(num1 / num2)\n",
    "elif operator == \"*\":\n",
    "    print(num1 * num2)\n",
    "else:\n",
    "    print(\"It is a invalid operator\")"
   ]
  },
  {
   "cell_type": "markdown",
   "metadata": {},
   "source": [
    "### Dictionaries"
   ]
  },
  {
   "cell_type": "code",
   "execution_count": 2,
   "metadata": {},
   "outputs": [
    {
     "name": "stdout",
     "output_type": "stream",
     "text": [
      "march\n"
     ]
    }
   ],
   "source": [
    "monthConversions = {\n",
    "    \"mon\":\"monday\",\"feb\":\"february\",\n",
    "    \"mar\":\"march\",\"aprl\":\"april\"\n",
    "}\n",
    "\n",
    "print(monthConversions[\"mar\"])"
   ]
  },
  {
   "cell_type": "markdown",
   "metadata": {},
   "source": [
    "### While loops"
   ]
  },
  {
   "cell_type": "code",
   "execution_count": 5,
   "metadata": {},
   "outputs": [
    {
     "name": "stdout",
     "output_type": "stream",
     "text": [
      "1\n",
      "2\n",
      "3\n",
      "4\n",
      "5\n",
      "Done with the loop\n"
     ]
    }
   ],
   "source": [
    "i = 1\n",
    "while i<=5:\n",
    "    print(i)\n",
    "    i=i+1\n",
    "print(\"Done with the loop\")"
   ]
  },
  {
   "cell_type": "markdown",
   "metadata": {},
   "source": [
    "## Building a Guessing Game"
   ]
  },
  {
   "cell_type": "code",
   "execution_count": 3,
   "metadata": {},
   "outputs": [
    {
     "name": "stdout",
     "output_type": "stream",
     "text": [
      "Enter the Guess: c\n",
      "Enter the Guess: c++\n",
      "Enter the Guess: Python\n",
      "Congratulations, you win!\n"
     ]
    }
   ],
   "source": [
    "secret_word = \"Python\"\n",
    "guess = \"\"\n",
    "guess_count = 0\n",
    "guess_limit = 3\n",
    "out_of_guesses = False\n",
    "\n",
    "while guess != secret_word and not(out_of_guesses):\n",
    "    if guess_count < guess_limit:\n",
    "        guess = input(\"Enter the Guess: \")\n",
    "        guess_count += 1\n",
    "    else:\n",
    "        out_of_guesses = True\n",
    "if out_of_guesses:\n",
    "    print(\"We're Sorry, You lost the game\")\n",
    "else:\n",
    "    print(\"Congratulations, you win!\")"
   ]
  },
  {
   "cell_type": "markdown",
   "metadata": {},
   "source": [
    "## For Loops"
   ]
  },
  {
   "cell_type": "code",
   "execution_count": 9,
   "metadata": {},
   "outputs": [
    {
     "name": "stdout",
     "output_type": "stream",
     "text": [
      "Manoj\n",
      "Srinivas\n",
      "Karthik\n",
      "01234"
     ]
    }
   ],
   "source": [
    "friends = [\"Manoj\",\"Srinivas\",\"Karthik\"]\n",
    "for friend in friends:\n",
    "    print(friend)\n",
    "for i in range(5):\n",
    "    print(i,end=\"\")"
   ]
  },
  {
   "cell_type": "markdown",
   "metadata": {},
   "source": [
    "## Exponent Function"
   ]
  },
  {
   "cell_type": "code",
   "execution_count": 15,
   "metadata": {},
   "outputs": [
    {
     "name": "stdout",
     "output_type": "stream",
     "text": [
      "8\n"
     ]
    }
   ],
   "source": [
    "def raise_to_power(base_no , pow_no):\n",
    "    result = 1\n",
    "    for i in range(pow_no):\n",
    "        result = result * base_no\n",
    "    return result\n",
    "print(raise_to_power(2,3))"
   ]
  },
  {
   "cell_type": "markdown",
   "metadata": {},
   "source": [
    "## 2D lists and Nested Lists"
   ]
  },
  {
   "cell_type": "code",
   "execution_count": 33,
   "metadata": {},
   "outputs": [
    {
     "name": "stdout",
     "output_type": "stream",
     "text": [
      "[1, 2, 3, 4, 5, 6, 7, 8, 9, 0]\n"
     ]
    }
   ],
   "source": [
    "number_grid = [\n",
    "    [1, 2, 3],\n",
    "    [4, 5, 6],\n",
    "    [7, 8, 9],\n",
    "    [0]\n",
    "]\n",
    "l=[]\n",
    "for row in number_grid:\n",
    "    for col in row:\n",
    "        l.append(col)\n",
    "print(l)       "
   ]
  },
  {
   "cell_type": "markdown",
   "metadata": {},
   "source": [
    "## Build a Basic Transalator"
   ]
  },
  {
   "cell_type": "code",
   "execution_count": null,
   "metadata": {},
   "outputs": [],
   "source": [
    "def translate(phrase):\n",
    "    translation =\"\"\n",
    "    for letter in phrase:\n",
    "        if letter  in \"AEIOUaeiou\":\n",
    "            translation = translation + \"g\"\n",
    "        else:\n",
    "            translation = translation + letter\n",
    "    return translation\n",
    "print(translate(input(\"Enter a phrase: \")))"
   ]
  },
  {
   "cell_type": "markdown",
   "metadata": {},
   "source": [
    "## Exception handling like Try and except"
   ]
  },
  {
   "cell_type": "code",
   "execution_count": 4,
   "metadata": {},
   "outputs": [
    {
     "name": "stdout",
     "output_type": "stream",
     "text": [
      "Enter a number: 1\n",
      "1\n"
     ]
    }
   ],
   "source": [
    "try:\n",
    "    number = int(input(\"Enter a number: \"))\n",
    "    print(number)\n",
    "except:\n",
    "    print(\"Invalid input\")"
   ]
  },
  {
   "cell_type": "markdown",
   "metadata": {},
   "source": [
    "## Reading  , Writing , Appending Files"
   ]
  },
  {
   "cell_type": "code",
   "execution_count": 11,
   "metadata": {},
   "outputs": [
    {
     "name": "stdout",
     "output_type": "stream",
     "text": [
      "Manoj - 2020\n",
      "\n",
      "srinivas - 2020\n",
      "\n",
      "karthik - 2020\n"
     ]
    }
   ],
   "source": [
    "### Reading ffrom a text file\n",
    "sample_file = open(\"sample.txt\",'r') # r indicates reading a file\n",
    "for name in sample_file.readlines():\n",
    "    print(name)\n",
    "#print(sample_file.read())  ## we can read , readline, readlines In the place of read()\n",
    "sample_file.close()"
   ]
  },
  {
   "cell_type": "code",
   "execution_count": 18,
   "metadata": {},
   "outputs": [
    {
     "name": "stdout",
     "output_type": "stream",
     "text": [
      "19\n"
     ]
    }
   ],
   "source": [
    "### Writing from a text file\n",
    "sample_file = open(\"sample.txt\", \"a\") # a indicates appending a file\n",
    "print(sample_file.write(\" Sai krishna - 2020\"))\n",
    "sample_file.close()"
   ]
  },
  {
   "cell_type": "markdown",
   "metadata": {},
   "source": [
    "## Modules in Python\n",
    "\n",
    "There are many modules in python, we can install it by using the command **pip install module name** "
   ]
  },
  {
   "cell_type": "code",
   "execution_count": 21,
   "metadata": {},
   "outputs": [
    {
     "name": "stdout",
     "output_type": "stream",
     "text": [
      "2\n"
     ]
    }
   ],
   "source": [
    "import random\n",
    "def dice(num):\n",
    "    return random.randint(1,num)\n",
    "print(dice(6))\n",
    "        "
   ]
  }
 ],
 "metadata": {
  "kernelspec": {
   "display_name": "Python 3",
   "language": "python",
   "name": "python3"
  },
  "language_info": {
   "codemirror_mode": {
    "name": "ipython",
    "version": 3
   },
   "file_extension": ".py",
   "mimetype": "text/x-python",
   "name": "python",
   "nbconvert_exporter": "python",
   "pygments_lexer": "ipython3",
   "version": "3.7.1"
  }
 },
 "nbformat": 4,
 "nbformat_minor": 2
}
